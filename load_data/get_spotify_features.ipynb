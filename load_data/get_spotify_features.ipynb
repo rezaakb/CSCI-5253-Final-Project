{
 "cells": [
  {
   "cell_type": "code",
   "execution_count": 1,
   "id": "ef8724e3-cc31-4150-a71a-ab5769c7b755",
   "metadata": {},
   "outputs": [],
   "source": [
    "import pymongo\n",
    "import json\n",
    "import pandas as pd\n",
    "import os\n",
    "\n",
    "client = pymongo.MongoClient(\"...\")"
   ]
  },
  {
   "cell_type": "code",
   "execution_count": 2,
   "id": "d5f6adf0-487e-4fdc-8484-3061918f54f2",
   "metadata": {},
   "outputs": [],
   "source": [
    "db = client[\"Spotify\"]\n",
    "collection = db[\"music_features\"]"
   ]
  },
  {
   "cell_type": "code",
   "execution_count": null,
   "id": "23f7f896-c2c9-4dc2-9a6f-e3963aa7ee72",
   "metadata": {},
   "outputs": [],
   "source": [
    "import spotipy\n",
    "from spotipy.oauth2 import SpotifyClientCredentials\n",
    "import re \n",
    "\n",
    "client_credentials_manager = SpotifyClientCredentials(client_id=\"...\", client_secret=\"...\")\n",
    "sp = spotipy.Spotify(client_credentials_manager = client_credentials_manager)\n"
   ]
  },
  {
   "cell_type": "code",
   "execution_count": 6,
   "id": "cc2f466e-13e5-43b1-80cc-b87249416ebb",
   "metadata": {},
   "outputs": [],
   "source": [
    "list_files = list(os.listdir(\"../data3\"))"
   ]
  },
  {
   "cell_type": "code",
   "execution_count": 8,
   "id": "e225d2df-5f87-4c31-a964-2c635f7f67fd",
   "metadata": {},
   "outputs": [
    {
     "data": {
      "text/plain": [
       "500"
      ]
     },
     "execution_count": 8,
     "metadata": {},
     "output_type": "execute_result"
    }
   ],
   "source": [
    "len(list_files)"
   ]
  },
  {
   "cell_type": "code",
   "execution_count": 9,
   "id": "250457ac-08f0-4b5a-9461-aa4f9d143e1c",
   "metadata": {},
   "outputs": [
    {
     "name": "stdout",
     "output_type": "stream",
     "text": [
      "0 is ready\n",
      "0 is uploaded\n",
      "1 is ready\n",
      "1 is uploaded\n",
      "2 is ready\n",
      "2 is uploaded\n",
      "3 is ready\n",
      "3 is uploaded\n",
      "4 is ready\n",
      "4 is uploaded\n",
      "5 is ready\n",
      "5 is uploaded\n",
      "6 is ready\n",
      "6 is uploaded\n",
      "7 is ready\n",
      "7 is uploaded\n",
      "8 is ready\n",
      "8 is uploaded\n",
      "9 is ready\n",
      "9 is uploaded\n",
      "10 is ready\n",
      "10 is uploaded\n",
      "11 is ready\n",
      "11 is uploaded\n",
      "12 is ready\n",
      "12 is uploaded\n",
      "13 is ready\n",
      "13 is uploaded\n",
      "14 is ready\n",
      "14 is uploaded\n",
      "15 is ready\n",
      "15 is uploaded\n",
      "16 is ready\n",
      "16 is uploaded\n",
      "17 is ready\n",
      "17 is uploaded\n",
      "18 is ready\n",
      "18 is uploaded\n",
      "19 is ready\n",
      "19 is uploaded\n",
      "20 is ready\n",
      "20 is uploaded\n",
      "21 is ready\n",
      "21 is uploaded\n",
      "22 is ready\n",
      "22 is uploaded\n",
      "23 is ready\n",
      "23 is uploaded\n",
      "24 is ready\n",
      "24 is uploaded\n",
      "25 is ready\n",
      "25 is uploaded\n",
      "26 is ready\n",
      "26 is uploaded\n",
      "27 is ready\n",
      "27 is uploaded\n",
      "28 is ready\n",
      "28 is uploaded\n",
      "29 is ready\n",
      "29 is uploaded\n",
      "30 is ready\n",
      "30 is uploaded\n",
      "31 is ready\n",
      "31 is uploaded\n",
      "32 is ready\n",
      "32 is uploaded\n",
      "33 is ready\n",
      "33 is uploaded\n",
      "34 is ready\n",
      "34 is uploaded\n",
      "35 is ready\n",
      "35 is uploaded\n",
      "36 is ready\n",
      "36 is uploaded\n",
      "37 is ready\n",
      "37 is uploaded\n",
      "38 is ready\n",
      "38 is uploaded\n",
      "39 is ready\n",
      "39 is uploaded\n",
      "40 is ready\n",
      "40 is uploaded\n",
      "41 is ready\n",
      "41 is uploaded\n",
      "42 is ready\n",
      "42 is uploaded\n",
      "43 is ready\n",
      "43 is uploaded\n",
      "44 is ready\n",
      "44 is uploaded\n",
      "45 is ready\n",
      "45 is uploaded\n",
      "46 is ready\n",
      "46 is uploaded\n",
      "47 is ready\n",
      "47 is uploaded\n",
      "48 is ready\n",
      "48 is uploaded\n",
      "49 is ready\n",
      "49 is uploaded\n"
     ]
    }
   ],
   "source": [
    "for i in range(50):\n",
    "    list_dataframes = []\n",
    "    for j in range((i*10),(i*10)+10):\n",
    "        data_path = \"../data3/\"+list_files[j]\n",
    "        tmp = json.loads(open(data_path).read())\n",
    "\n",
    "        tmp = tmp[\"playlists\"]\n",
    "\n",
    "        tmp = pd.json_normalize(tmp, record_path='tracks', meta=['name'])\n",
    "        #tmp = tmp.to_dict(\"records\")\n",
    "\n",
    "        tmp = tmp[\"track_uri\"].apply(lambda x: re.findall(r'\\w+$', x)[0])\n",
    "        list_dataframes.append(tmp)\n",
    "    tmp = pd.concat(list_dataframes)\n",
    "    print(i,'is ready')\n",
    "    all_tracks = list(tmp.unique())\n",
    "    list_batchs = []\n",
    "    for k in range(len(all_tracks)//100):\n",
    "        list_batchs.append(','.join(all_tracks[(k*100):(k*100)+100]))\n",
    "    for k in range(len(all_tracks)//100):\n",
    "        try:\n",
    "            t = sp.audio_features(list_batchs[k])\n",
    "        except:\n",
    "            t = -1\n",
    "        if t!=-1:\n",
    "            tmp = [jj for jj in t if jj is not None]\n",
    "            tmp = pd.DataFrame(tmp)\n",
    "            collection.insert_many(tmp.to_dict('records'))\n",
    "    print(i,'is uploaded')"
   ]
  }
 ],
 "metadata": {
  "kernelspec": {
   "display_name": "Python 3",
   "language": "python",
   "name": "python3"
  },
  "language_info": {
   "codemirror_mode": {
    "name": "ipython",
    "version": 3
   },
   "file_extension": ".py",
   "mimetype": "text/x-python",
   "name": "python",
   "nbconvert_exporter": "python",
   "pygments_lexer": "ipython3",
   "version": "3.7.15"
  }
 },
 "nbformat": 4,
 "nbformat_minor": 5
}
